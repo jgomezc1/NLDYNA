{
 "cells": [
  {
   "cell_type": "markdown",
   "metadata": {},
   "source": [
    "Contents under Creative Commons BY 4.0 license and code under MIT license. © Julian Parra 2019. This material is part of the Master of Engineering program by Julian Parra at Universidad EAFIT."
   ]
  },
  {
   "cell_type": "markdown",
   "metadata": {},
   "source": [
    "# Dynamic analysis of a three-dimensional frame with rigid diaphragm\n",
    "\n",
    "<br>\n",
    "\n",
    "<img src=\"img/Example6_3D.PNG\" alt=\"files\" style=\"width:250px\" align=\"right\"/>\n",
    "\n",
    "This notebook describes the dynamic analysis of three dimensional building model. The building is a fixed-base 3-story frame under ground acceleration. Rigid diaphragms are used to represent stiff concrete slabs at each floor.\n",
    "\n",
    "The 3-D frame elements used in the model correspond to type `10` in the `NLDYNA` library. These elements are based on the Timoshenko beam theory considering shear strain effects. Results are provided in terms of the displacements time history at point located in the third floor of the building.\n",
    "\n",
    "The general parameters used in the analysis are defined next:\n",
    "\n",
    "> - Ground motion: acceleration time history corresponding to the *California 1940 El Centro record.*\n",
    "> - Time step of the input excitation: $\\Delta t = 0.02 s.$\n",
    "> - Total analysis tie: $T = 20.0 s.$\n",
    "> - Element type as defined in NLDYNA: Timoshenko beams eltype = `10`.\n",
    "> - Columns cross sections *0.50 m x 0.50 m*\n",
    "> - Beams cross sections *0.50 m x 0.60 m*.\n",
    "> - Material profile for all elements is concrete with $E = 2000000$ tonf/m² ad $\\gamma = 2.4$ tonf/m³.\n",
    "\n",
    "The building together wit a plan view of the typical floor are shown below.tal (derecha) de la estructura a analizar:\n",
    "\n",
    "<br>\n",
    "\n",
    "<img src=\"img/Example6_PL_ALZ.PNG\" alt=\"files\" style=\"width:615px\" align=\"center\"/>\n",
    "\n",
    "\n",
    "\n",
    "**Units for this example are **[tonf-m]**.\n",
    "\n",
    "**Input files for this problem are available in the folder \"Examples\"(...\\01_Notebooks\\Examples).**   \n",
    "\n",
    "<br>\n"
   ]
  },
  {
   "cell_type": "code",
   "execution_count": 8,
   "metadata": {
    "scrolled": true
   },
   "outputs": [
    {
     "ename": "TypeError",
     "evalue": "ufunc 'ceil' not supported for the input types, and the inputs could not be safely coerced to any supported types according to the casting rule ''safe''",
     "output_type": "error",
     "traceback": [
      "\u001b[1;31m---------------------------------------------------------------------------\u001b[0m",
      "\u001b[1;31mTypeError\u001b[0m                                 Traceback (most recent call last)",
      "\u001b[1;32m<ipython-input-8-49dbb1277ff3>\u001b[0m in \u001b[0;36m<module>\u001b[1;34m\u001b[0m\n\u001b[0;32m      9\u001b[0m \u001b[1;33m\u001b[0m\u001b[0m\n\u001b[0;32m     10\u001b[0m \u001b[1;31m# Execute analysis\u001b[0m\u001b[1;33m\u001b[0m\u001b[1;33m\u001b[0m\u001b[1;33m\u001b[0m\u001b[0m\n\u001b[1;32m---> 11\u001b[1;33m \u001b[0mdisplacement\u001b[0m\u001b[1;33m,\u001b[0m\u001b[0mfolder\u001b[0m\u001b[1;33m,\u001b[0m\u001b[0mIBC\u001b[0m\u001b[1;33m,\u001b[0m\u001b[0mnodes\u001b[0m\u001b[1;33m,\u001b[0m\u001b[0melements\u001b[0m\u001b[1;33m,\u001b[0m\u001b[0mninc\u001b[0m\u001b[1;33m,\u001b[0m\u001b[0mT\u001b[0m\u001b[1;33m,\u001b[0m\u001b[0mMvarsGen\u001b[0m\u001b[1;33m,\u001b[0m\u001b[0mILFGen\u001b[0m \u001b[1;33m=\u001b[0m \u001b[0mStruct_DYN\u001b[0m\u001b[1;33m(\u001b[0m\u001b[1;34m\"Examples/Ex_03/01_INPUT/\"\u001b[0m\u001b[1;33m)\u001b[0m\u001b[1;33m\u001b[0m\u001b[1;33m\u001b[0m\u001b[0m\n\u001b[0m",
      "\u001b[1;32m~\\Dropbox\\REPOS\\nldyna\\source\\STRUCTURE.py\u001b[0m in \u001b[0;36mStruct_DYN\u001b[1;34m(folder)\u001b[0m\n\u001b[0;32m     34\u001b[0m     \u001b[0mUp\u001b[0m\u001b[1;33m,\u001b[0m \u001b[0mVp\u001b[0m                      \u001b[1;33m=\u001b[0m \u001b[0msol\u001b[0m\u001b[1;33m.\u001b[0m\u001b[0minicond_U_V\u001b[0m\u001b[1;33m(\u001b[0m\u001b[0mcst_neq\u001b[0m\u001b[1;33m)\u001b[0m \u001b[1;31m# New initial conditions after constraints\u001b[0m\u001b[1;33m\u001b[0m\u001b[1;33m\u001b[0m\u001b[0m\n\u001b[0;32m     35\u001b[0m     \u001b[0mTfund\u001b[0m\u001b[1;33m,\u001b[0m \u001b[0mTmin\u001b[0m                 \u001b[1;33m=\u001b[0m \u001b[0mmodal\u001b[0m\u001b[1;33m.\u001b[0m\u001b[0meigen\u001b[0m\u001b[1;33m(\u001b[0m\u001b[0minipar\u001b[0m\u001b[1;33m,\u001b[0m \u001b[0mMG\u001b[0m\u001b[1;33m,\u001b[0m \u001b[0mKG\u001b[0m\u001b[1;33m)\u001b[0m\u001b[1;33m\u001b[0m\u001b[1;33m\u001b[0m\u001b[0m\n\u001b[1;32m---> 36\u001b[1;33m     \u001b[0mRHSG\u001b[0m\u001b[1;33m,\u001b[0m \u001b[0mDeltaT\u001b[0m\u001b[1;33m,\u001b[0m \u001b[0mninc\u001b[0m\u001b[1;33m,\u001b[0m \u001b[0minipar\u001b[0m  \u001b[1;33m=\u001b[0m \u001b[0mass\u001b[0m\u001b[1;33m.\u001b[0m\u001b[0mloadasem\u001b[0m\u001b[1;33m(\u001b[0m\u001b[0mIBC\u001b[0m\u001b[1;33m,\u001b[0m \u001b[0mMG\u001b[0m\u001b[1;33m,\u001b[0m \u001b[0mSeismo_signal\u001b[0m\u001b[1;33m,\u001b[0m \u001b[0mNodal_loads\u001b[0m\u001b[1;33m,\u001b[0m \u001b[0mneq\u001b[0m\u001b[1;33m,\u001b[0m \u001b[0mninc\u001b[0m\u001b[1;33m,\u001b[0m \u001b[0minipar\u001b[0m\u001b[1;33m,\u001b[0m \u001b[0mTmin\u001b[0m\u001b[1;33m,\u001b[0m \u001b[0mconst\u001b[0m\u001b[1;33m)\u001b[0m\u001b[1;33m\u001b[0m\u001b[1;33m\u001b[0m\u001b[0m\n\u001b[0m\u001b[0;32m     37\u001b[0m     \u001b[0mninc\u001b[0m\u001b[1;33m,\u001b[0m \u001b[0mT\u001b[0m\u001b[1;33m,\u001b[0m \u001b[0mdt\u001b[0m\u001b[1;33m,\u001b[0m \u001b[0mac\u001b[0m\u001b[1;33m,\u001b[0m \u001b[0mtheta\u001b[0m      \u001b[1;33m=\u001b[0m \u001b[0mpre\u001b[0m\u001b[1;33m.\u001b[0m\u001b[0mintparams\u001b[0m\u001b[1;33m(\u001b[0m\u001b[0minipar\u001b[0m\u001b[1;33m)\u001b[0m\u001b[1;33m\u001b[0m\u001b[1;33m\u001b[0m\u001b[0m\n\u001b[0;32m     38\u001b[0m     \u001b[0mKG\u001b[0m\u001b[1;33m,\u001b[0m \u001b[0mMG\u001b[0m\u001b[1;33m,\u001b[0m \u001b[0mCG\u001b[0m\u001b[1;33m,\u001b[0m \u001b[0mMsvar\u001b[0m\u001b[1;33m,\u001b[0m \u001b[0mIGF\u001b[0m\u001b[1;33m,\u001b[0m \u001b[0mILF\u001b[0m \u001b[1;33m=\u001b[0m \u001b[0mass\u001b[0m\u001b[1;33m.\u001b[0m\u001b[0massembler\u001b[0m\u001b[1;33m(\u001b[0m\u001b[0minipar\u001b[0m\u001b[1;33m,\u001b[0m \u001b[0mUp\u001b[0m\u001b[1;33m,\u001b[0m \u001b[0mMsvar\u001b[0m\u001b[1;33m,\u001b[0m \u001b[0mILF\u001b[0m\u001b[1;33m,\u001b[0m \u001b[0melements\u001b[0m\u001b[1;33m,\u001b[0m \u001b[0mmats\u001b[0m\u001b[1;33m,\u001b[0m \u001b[0mnodes\u001b[0m\u001b[1;33m,\u001b[0m \u001b[0mneq\u001b[0m\u001b[1;33m,\u001b[0m \u001b[0mDME\u001b[0m\u001b[1;33m,\u001b[0m \u001b[0mac\u001b[0m\u001b[1;33m,\u001b[0m \u001b[0mconst\u001b[0m\u001b[1;33m)\u001b[0m\u001b[1;33m\u001b[0m\u001b[1;33m\u001b[0m\u001b[0m\n",
      "\u001b[1;32m~\\Dropbox\\REPOS\\nldyna\\source\\assemutil.py\u001b[0m in \u001b[0;36mloadasem\u001b[1;34m(IBC, MG, Seismo_signal, Nodal_loads, neq, ninc, inipar, Tmin, const)\u001b[0m\n\u001b[0;32m    630\u001b[0m     \u001b[1;32melif\u001b[0m \u001b[1;33m(\u001b[0m\u001b[0mNLSTA\u001b[0m \u001b[1;33m==\u001b[0m \u001b[1;36m0\u001b[0m\u001b[1;33m)\u001b[0m \u001b[1;32mand\u001b[0m \u001b[1;33m(\u001b[0m\u001b[0mNLDYNA\u001b[0m \u001b[1;33m==\u001b[0m \u001b[1;36m1\u001b[0m\u001b[1;33m)\u001b[0m\u001b[1;33m:\u001b[0m\u001b[1;33m\u001b[0m\u001b[1;33m\u001b[0m\u001b[0m\n\u001b[0;32m    631\u001b[0m          \u001b[1;32mif\u001b[0m \u001b[0mTmin\u001b[0m \u001b[1;33m<\u001b[0m \u001b[0mDeltaT\u001b[0m\u001b[1;33m:\u001b[0m\u001b[1;33m\u001b[0m\u001b[1;33m\u001b[0m\u001b[0m\n\u001b[1;32m--> 632\u001b[1;33m               \u001b[0mSeismo_signal\u001b[0m\u001b[1;33m,\u001b[0m \u001b[0mDeltaT_New\u001b[0m \u001b[1;33m=\u001b[0m \u001b[0mNewSignal\u001b[0m\u001b[1;33m(\u001b[0m\u001b[0mTmin\u001b[0m\u001b[1;33m,\u001b[0m \u001b[0mDeltaT\u001b[0m\u001b[1;33m,\u001b[0m \u001b[0mSeismo_signal\u001b[0m\u001b[1;33m)\u001b[0m\u001b[1;33m\u001b[0m\u001b[1;33m\u001b[0m\u001b[0m\n\u001b[0m\u001b[0;32m    633\u001b[0m               \u001b[0mprint\u001b[0m\u001b[1;33m(\u001b[0m\u001b[1;34m' ***** Time step and seismo signal has been updated *****'\u001b[0m\u001b[1;33m)\u001b[0m\u001b[1;33m\u001b[0m\u001b[1;33m\u001b[0m\u001b[0m\n\u001b[0;32m    634\u001b[0m               \u001b[0mDeltaT_fin\u001b[0m  \u001b[1;33m=\u001b[0m \u001b[0mDeltaT_New\u001b[0m\u001b[1;33m\u001b[0m\u001b[1;33m\u001b[0m\u001b[0m\n",
      "\u001b[1;32m~\\Dropbox\\REPOS\\nldyna\\source\\assemutil.py\u001b[0m in \u001b[0;36mNewSignal\u001b[1;34m(Tmin, DeltaT, Seismo_signal)\u001b[0m\n\u001b[0;32m    561\u001b[0m     \"\"\"\n\u001b[0;32m    562\u001b[0m \u001b[1;33m\u001b[0m\u001b[0m\n\u001b[1;32m--> 563\u001b[1;33m     \u001b[0mNtimes_inter\u001b[0m   \u001b[1;33m=\u001b[0m \u001b[0mint\u001b[0m\u001b[1;33m(\u001b[0m\u001b[0mnp\u001b[0m\u001b[1;33m.\u001b[0m\u001b[0mceil\u001b[0m\u001b[1;33m(\u001b[0m\u001b[0mDeltaT\u001b[0m\u001b[1;33m/\u001b[0m\u001b[0mTmin\u001b[0m\u001b[1;33m)\u001b[0m\u001b[1;33m)\u001b[0m      \u001b[1;31m# Number of needed delta T in the actual interval\u001b[0m\u001b[1;33m\u001b[0m\u001b[1;33m\u001b[0m\u001b[0m\n\u001b[0m\u001b[0;32m    564\u001b[0m     \u001b[0mNew_DeltaT\u001b[0m     \u001b[1;33m=\u001b[0m \u001b[0mDeltaT\u001b[0m\u001b[1;33m/\u001b[0m\u001b[0mNtimes_inter\u001b[0m            \u001b[1;31m# New time step\u001b[0m\u001b[1;33m\u001b[0m\u001b[1;33m\u001b[0m\u001b[0m\n\u001b[0;32m    565\u001b[0m     \u001b[0mNtimes\u001b[0m         \u001b[1;33m=\u001b[0m \u001b[0mlen\u001b[0m\u001b[1;33m(\u001b[0m\u001b[0mSeismo_signal\u001b[0m\u001b[1;33m)\u001b[0m             \u001b[1;31m# Number of time steps\u001b[0m\u001b[1;33m\u001b[0m\u001b[1;33m\u001b[0m\u001b[0m\n",
      "\u001b[1;31mTypeError\u001b[0m: ufunc 'ceil' not supported for the input types, and the inputs could not be safely coerced to any supported types according to the casting rule ''safe''"
     ]
    }
   ],
   "source": [
    "%matplotlib inline        \n",
    "import matplotlib.pyplot as plt\n",
    "import numpy as np\n",
    "import sympy as sym\n",
    "from os import sys\n",
    "sys.path.append(\"../source/\")\n",
    "from STRUCTURE import Struct_DYN\n",
    "from postprocesor import *\n",
    "\n",
    "# Execute analysis\n",
    "displacement,folder,IBC,nodes,elements,ninc,T,MvarsGen,ILFGen = Struct_DYN(\"Examples/Ex_03/01_INPUT/\")"
   ]
  },
  {
   "cell_type": "markdown",
   "metadata": {},
   "source": [
    "## Results\n",
    "\n",
    "The time history of displacements at a nodal point located in the roof can be obtained as follows."
   ]
  },
  {
   "cell_type": "code",
   "execution_count": 5,
   "metadata": {},
   "outputs": [
    {
     "ename": "NameError",
     "evalue": "name 'NodalDispPLT' is not defined",
     "output_type": "error",
     "traceback": [
      "\u001b[1;31m---------------------------------------------------------------------------\u001b[0m",
      "\u001b[1;31mNameError\u001b[0m                                 Traceback (most recent call last)",
      "\u001b[1;32m<ipython-input-5-cdbdd7b3dbec>\u001b[0m in \u001b[0;36m<module>\u001b[1;34m\u001b[0m\n\u001b[1;32m----> 1\u001b[1;33m \u001b[0mfig\u001b[0m \u001b[1;33m=\u001b[0m \u001b[0mNodalDispPLT\u001b[0m\u001b[1;33m(\u001b[0m\u001b[0mdisplacement\u001b[0m\u001b[1;33m[\u001b[0m\u001b[1;36m0\u001b[0m\u001b[1;33m,\u001b[0m\u001b[1;33m:\u001b[0m\u001b[1;33m]\u001b[0m\u001b[1;33m,\u001b[0m \u001b[0mT\u001b[0m\u001b[1;33m,\u001b[0m \u001b[0mninc\u001b[0m\u001b[1;33m,\u001b[0m \u001b[0mylabel\u001b[0m \u001b[1;33m=\u001b[0m \u001b[1;34m\"Displacement\"\u001b[0m\u001b[1;33m)\u001b[0m\u001b[1;33m\u001b[0m\u001b[1;33m\u001b[0m\u001b[0m\n\u001b[0m",
      "\u001b[1;31mNameError\u001b[0m: name 'NodalDispPLT' is not defined"
     ]
    }
   ],
   "source": [
    "fig = NodalDispPLT(displacement[0,:], T, ninc, ylabel = \"Displacement\")"
   ]
  },
  {
   "cell_type": "markdown",
   "metadata": {},
   "source": [
    "The following cell just changes the Notebook format"
   ]
  },
  {
   "cell_type": "code",
   "execution_count": 4,
   "metadata": {},
   "outputs": [
    {
     "data": {
      "text/html": [
       "\n",
       "<link href='http://fonts.googleapis.com/css?family=Fenix' rel='stylesheet' type='text/css'>\n",
       "<link href='http://fonts.googleapis.com/css?family=Alegreya+Sans:100,300,400,500,700,800,900,100italic,300italic,400italic,500italic,700italic,800italic,900italic' rel='stylesheet' type='text/css'>\n",
       "<link href='http://fonts.googleapis.com/css?family=Source+Code+Pro:300,400' rel='stylesheet' type='text/css'>\n",
       "\n",
       "<style>\n",
       "\n",
       "/*\n",
       "Template for Notebooks for ModelaciÃ³n computacional.\n",
       "\n",
       "Based on Lorena Barba template available at:\n",
       "\n",
       "    https://github.com/barbagroup/AeroPython/blob/master/styles/custom.css\n",
       "*/\n",
       "\n",
       "/* Fonts */\n",
       "@font-face {\n",
       "font-family: \"Computer Modern\";\n",
       "src: url('http://mirrors.ctan.org/fonts/cm-unicode/fonts/otf/cmunss.otf');\n",
       "}\n",
       "\n",
       "/* Text */\n",
       "div.cell{\n",
       "width:800px;\n",
       "margin-left:16% !important;\n",
       "margin-right:auto;\n",
       "}\n",
       "h1 {\n",
       "font-family: 'Alegreya Sans', sans-serif;\n",
       "}\n",
       "h2 {\n",
       "font-family: 'Fenix', serif;\n",
       "}\n",
       "h3{\n",
       "font-family: 'Fenix', serif;\n",
       "margin-top:12px;\n",
       "margin-bottom: 3px;\n",
       "}\n",
       "h4{\n",
       "font-family: 'Fenix', serif;\n",
       "}\n",
       "h5 {\n",
       "font-family: 'Alegreya Sans', sans-serif;\n",
       "}\t\n",
       "div.text_cell_render{\n",
       "font-family: 'Alegreya Sans',Computer Modern, \"Helvetica Neue\", Arial, Helvetica, Geneva, sans-serif;\n",
       "line-height: 135%;\n",
       "font-size: 120%;\n",
       "width:600px;\n",
       "margin-left:auto;\n",
       "margin-right:auto;\n",
       "}\n",
       ".CodeMirror{\n",
       "font-family: \"Source Code Pro\";\n",
       "font-size: 90%;\n",
       "}\n",
       "/* .prompt{\n",
       "display: None;\n",
       "}*/\n",
       ".text_cell_render h1 {\n",
       "font-weight: 200;\n",
       "font-size: 50pt;\n",
       "line-height: 100%;\n",
       "color:#CD2305;\n",
       "margin-bottom: 0.5em;\n",
       "margin-top: 0.5em;\n",
       "display: block;\n",
       "}\t\n",
       ".text_cell_render h5 {\n",
       "font-weight: 300;\n",
       "font-size: 16pt;\n",
       "color: #CD2305;\n",
       "font-style: italic;\n",
       "margin-bottom: .5em;\n",
       "margin-top: 0.5em;\n",
       "display: block;\n",
       "}\n",
       ".warning{\n",
       "color: rgb( 240, 20, 20 )\n",
       "}\n",
       "</style>\n",
       "\n",
       "<script>\n",
       "/* Equations */\n",
       "\n",
       "MathJax.Hub.Config({\n",
       "TeX: {\n",
       "extensions: [\"AMSmath.js\"]\n",
       "},\n",
       "tex2jax: {\n",
       "inlineMath: [ ['$','$'], [\"\\\\(\",\"\\\\)\"] ],\n",
       "displayMath: [ ['$$','$$'], [\"\\\\[\",\"\\\\]\"] ]\n",
       "},\n",
       "displayAlign: 'center', // Change this to 'center' to center equations.\n",
       "\"HTML-CSS\": {\n",
       "styles: {'.MathJax_Display': {\"margin\": 4}}\n",
       "}\n",
       "});\n",
       "</script>\n",
       "\n",
       "\n"
      ],
      "text/plain": [
       "<IPython.core.display.HTML object>"
      ]
     },
     "execution_count": 4,
     "metadata": {},
     "output_type": "execute_result"
    }
   ],
   "source": [
    "from IPython.core.display import HTML\n",
    "def css_styling():\n",
    "    styles = open('./nb_style.css', 'r').read()\n",
    "    return HTML(styles)\n",
    "css_styling()"
   ]
  },
  {
   "cell_type": "code",
   "execution_count": null,
   "metadata": {},
   "outputs": [],
   "source": []
  }
 ],
 "metadata": {
  "kernelspec": {
   "display_name": "Python 3",
   "language": "python",
   "name": "python3"
  },
  "language_info": {
   "codemirror_mode": {
    "name": "ipython",
    "version": 3
   },
   "file_extension": ".py",
   "mimetype": "text/x-python",
   "name": "python",
   "nbconvert_exporter": "python",
   "pygments_lexer": "ipython3",
   "version": "3.7.3"
  }
 },
 "nbformat": 4,
 "nbformat_minor": 2
}
